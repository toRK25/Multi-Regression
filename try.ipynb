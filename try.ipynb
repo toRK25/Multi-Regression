{
 "cells": [
  {
   "cell_type": "code",
   "execution_count": null,
   "id": "d599a1b8",
   "metadata": {},
   "outputs": [],
   "source": [
    "import pandas as pd\n",
    "import matplotlib.pyplot as plt\n",
    "import seaborn as sns\n",
    "import sklearn\n",
    "from sklearn.datasets import load_iris\n",
    "from sklearn.model_selection import train_test_split\n",
    "from sklearn.linear_model import LinearRegression\n",
    "import plotly.express as px"
   ]
  },
  {
   "cell_type": "code",
   "execution_count": null,
   "id": "a4fc4c48",
   "metadata": {},
   "outputs": [],
   "source": [
    "df = pd.read_csv(\"https://cf-courses-data.s3.us.cloud-object-storage.appdomain.cloud/IBMDeveloperSkillsNetwork-ML0101EN-SkillsNetwork/labs/Module%202/data/FuelConsumptionCo2.csv\")\n",
    "df.head(16)"
   ]
  },
  {
   "cell_type": "markdown",
   "id": "e66ef12e",
   "metadata": {},
   "source": [
    "Your task will be to create a multiple linear regression model using some of these features to predict CO2 emissions of unobserved cars based on the selected features.\n"
   ]
  },
  {
   "cell_type": "code",
   "execution_count": null,
   "id": "5e774b84",
   "metadata": {},
   "outputs": [],
   "source": [
    "df.describe()"
   ]
  },
  {
   "cell_type": "code",
   "execution_count": null,
   "id": "09059ed7",
   "metadata": {},
   "outputs": [],
   "source": [
    "df.info()"
   ]
  },
  {
   "cell_type": "code",
   "execution_count": null,
   "id": "ff398ca5",
   "metadata": {},
   "outputs": [],
   "source": [
    "df = df.drop(['MODEL','MODELYEAR','MAKE','VEHICLECLASS','FUELTYPE'], axis=1)"
   ]
  },
  {
   "cell_type": "markdown",
   "id": "9dc99524",
   "metadata": {},
   "source": [
    "DROP IR RELEVANT COLUMNS \n"
   ]
  },
  {
   "cell_type": "code",
   "execution_count": null,
   "id": "2f2b9e5a",
   "metadata": {},
   "outputs": [],
   "source": [
    "df.head()"
   ]
  },
  {
   "cell_type": "code",
   "execution_count": null,
   "id": "6eb1b73e",
   "metadata": {},
   "outputs": [],
   "source": [
    "corr=df.corr()\n",
    "plt.figure(figsize=(8,6))\n",
    "sns.heatmap(corr,cmap = \"Blues\", annot=True)\n",
    "plt.show()"
   ]
  },
  {
   "cell_type": "markdown",
   "id": "33a5cacd",
   "metadata": {},
   "source": [
    "examine the correlations of the distinct pairs. 'ENGINESIZE' and 'CYLINDERS' are highly correlated, but 'ENGINESIZE' is more correlated with the target, so we can drop 'CYLINDERS'.\n",
    "\n",
    "Similarly, each of the four fuel economy variables is highly correlated with each other. Since FUELCONSUMPTION_COMB_MPG is the most correlated with the target, you can drop the others: 'FUELCONSUMPTION_CITY,' 'FUELCONSUMPTION_HWY,' 'FUELCONSUMPTION_COMB.'"
   ]
  },
  {
   "cell_type": "code",
   "execution_count": null,
   "id": "209a192e",
   "metadata": {},
   "outputs": [],
   "source": [
    "df =df.drop([\"CYLINDERS\",\"FUELCONSUMPTION_COMB\",\"FUELCONSUMPTION_CITY\",\"FUELCONSUMPTION_HWY\"], axis=1)"
   ]
  },
  {
   "cell_type": "code",
   "execution_count": null,
   "id": "ca57dd29",
   "metadata": {},
   "outputs": [],
   "source": [
    "df.head(10)"
   ]
  },
  {
   "cell_type": "code",
   "execution_count": null,
   "id": "a17dbd4b",
   "metadata": {},
   "outputs": [],
   "source": [
    "plot = df[['ENGINESIZE','FUELCONSUMPTION_COMB_MPG','CO2EMISSIONS']]\n",
    "sns.pairplot(plot,kind = 'scatter' , plot_kws={'alpha':0.5})\n"
   ]
  },
  {
   "cell_type": "markdown",
   "id": "4288f7c5",
   "metadata": {},
   "source": [
    "NOW TRAIN  MODEL BY SEPRATING TARGET AND INPUT COLUMNS\n",
    "\n",
    "iloc in pandas\n",
    "Meaning: integer location\n",
    "\n",
    "Lets you select rows and columns by their numeric position (0-based index) instead of by labels.\n",
    "\n",
    "df.iloc[0:5, :]      # rows 0–4, all columns\n",
    "\n",
    "df.iloc[:, [0,2]]    # all rows, only columns 0 and 2\n",
    "\n",
    "df.iloc[[1,3,5], 0]  # rows 1,3,5 of column 0"
   ]
  },
  {
   "cell_type": "code",
   "execution_count": null,
   "id": "50c6f505",
   "metadata": {},
   "outputs": [],
   "source": [
    "x = df.iloc[:,[0,1]].to_numpy()  #SELECT ONLY COLUMN ENGINESIZE AND FUELCONSUMPTION_COMB_MPG FOR INPUT\n",
    "y = df.iloc[:,2].to_numpy()       #SELECT ONLY COLUMN CO2EMISSIONS FOR OUTPUT"
   ]
  },
  {
   "cell_type": "markdown",
   "id": "83422d2b",
   "metadata": {},
   "source": [
    "Preprocess selected features\n",
    "\n",
    "You should standardize your input features so the model doesn't inadvertently favor any feature due to its magnitude. The typical way to do this is to subtract the mean and divide by the standard deviation. Scikit-learn can do this for you."
   ]
  },
  {
   "cell_type": "code",
   "execution_count": null,
   "id": "08a34d5d",
   "metadata": {},
   "outputs": [],
   "source": [
    "from sklearn import preprocessing\n",
    "\n",
    "std_scaler = preprocessing.StandardScaler()\n",
    "x_std = std_scaler.fit_transform(x)"
   ]
  },
  {
   "cell_type": "markdown",
   "id": "1ae747ec",
   "metadata": {},
   "source": [
    "df.round(2)       # rounds every numeric column in a DataFrame to 2 decimals\n"
   ]
  },
  {
   "cell_type": "code",
   "execution_count": null,
   "id": "b945a487",
   "metadata": {},
   "outputs": [],
   "source": [
    "pd.DataFrame(x_std).describe().round(2)"
   ]
  },
  {
   "cell_type": "code",
   "execution_count": null,
   "id": "1840d07b",
   "metadata": {},
   "outputs": [],
   "source": [
    "from sklearn.model_selection import train_test_split\n",
    "from sklearn.linear_model import LinearRegression\n",
    "\n",
    "x_train,x_test,y_train,y_test = train_test_split(x_std,y,test_size=0.2,random_state=42)\n",
    "model = LinearRegression()"
   ]
  },
  {
   "cell_type": "code",
   "execution_count": null,
   "id": "2788d95c",
   "metadata": {},
   "outputs": [],
   "source": [
    "model.fit(x_train,y_train)"
   ]
  },
  {
   "cell_type": "markdown",
   "id": "e2ca1eea",
   "metadata": {},
   "source": [
    "Model Testing\n",
    "\n",
    "Now our model is ready to use for prediction. Let's test our regressor model on test data.\n",
    "\n",
    "We use predict() method to predict the results for the test set. It takes input features (X_test) and return the redicted values.\n",
    "\n",
    "\n",
    "\n",
    "\n"
   ]
  },
  {
   "cell_type": "code",
   "execution_count": null,
   "id": "c5435c44",
   "metadata": {},
   "outputs": [],
   "source": [
    "y_pred = model.predict(x_test)\n",
    "df2 = pd.DataFrame({'Real Values':y_test, 'Predicted Values':y_pred})\n",
    "df2"
   ]
  },
  {
   "cell_type": "markdown",
   "id": "f7aa7173",
   "metadata": {},
   "source": [
    "Model Evaluation\n",
    "We now evaluate our model to check how accurate it is. We will use mean square error (MSE), root mean square error (RMSE), mean absolute error (MAE), and R2-score (Coefficient of determination).\n",
    "\n"
   ]
  },
  {
   "cell_type": "code",
   "execution_count": null,
   "id": "cd6a8a53",
   "metadata": {},
   "outputs": [],
   "source": [
    "from sklearn.metrics import mean_squared_error, root_mean_squared_error, mean_absolute_error, r2_score\n",
    "\n",
    "mse = mean_squared_error(y_test, y_pred)\n",
    "rmse = root_mean_squared_error(y_test, y_pred)\n",
    "mae = mean_absolute_error(y_test, y_pred)\n",
    "r2 = r2_score(y_test, y_pred)\n",
    "\n",
    "print(\"Mean Squared Error (MSE):\", mse)\n",
    "print(\"Root Mean Squared Error (RMSE):\", rmse)\n",
    "print(\"Mean Absolute Error (MAE):\", mae)\n",
    "print(\"R-squared (R2):\", r2)"
   ]
  },
  {
   "cell_type": "markdown",
   "id": "12ca1d03",
   "metadata": {},
   "source": [
    "MSE/RMSE:\n",
    "\n",
    "Batate hain ki prediction aur actual value ke beech average error kitna bada hai, aur badi galtiyon ko zyada weight dete hain."
   ]
  },
  {
   "cell_type": "markdown",
   "id": "0ae33abf",
   "metadata": {},
   "source": [
    "R² Score (Coefficient of Determination)\n",
    "\n",
    "Measures how well your regression model’s predictions match the actual data. \n",
    "\n",
    "1.0 (or 100%) → Perfect fit. Model explains all variability.\n",
    "\n",
    "0.0 → Model explains nothing beyond the mean."
   ]
  },
  {
   "cell_type": "markdown",
   "id": "5bbe8fcd",
   "metadata": {},
   "source": [
    "MAE:\n",
    "\n",
    "Batata hai average error kitna hai, chahe galti chhoti ho ya badi.\n",
    "\n",
    "Outliers (bahut badi ya bahut chhoti galti) se jyada affect nahi hota."
   ]
  },
  {
   "cell_type": "code",
   "execution_count": null,
   "id": "ba1dc390",
   "metadata": {},
   "outputs": [],
   "source": [
    "coef = model.coef_\n",
    "intercept = model.intercept_\n"
   ]
  },
  {
   "cell_type": "code",
   "execution_count": null,
   "id": "7b7712c7",
   "metadata": {},
   "outputs": [],
   "source": [
    "df.head()"
   ]
  },
  {
   "cell_type": "markdown",
   "id": "71e1f6c2",
   "metadata": {},
   "source": [
    "y = w1x1 + w2x2 + b\n",
    "\n",
    "y =CO2 EMISSION     \n",
    "\n",
    "X1 = ENGSIZE\n",
    "\n",
    "X2 = FUELCOMBUSTION    "
   ]
  },
  {
   "cell_type": "code",
   "execution_count": null,
   "id": "a6035c04",
   "metadata": {},
   "outputs": [],
   "source": [
    "def formula(eng,fuel,w1,w2,b):\n",
    "    return w1*eng + w2*fuel + b\n",
    "\n"
   ]
  },
  {
   "cell_type": "code",
   "execution_count": null,
   "id": "ac89e057",
   "metadata": {},
   "outputs": [],
   "source": [
    "# engine = df['ENGINESIZE']\n",
    "# petrol = df['FUELCONSUMPTION_COMB_MPG']\n",
    "# actual = df['CO2EMISSIONS']\n",
    "# column = df.iloc[:,2]"
   ]
  },
  {
   "cell_type": "code",
   "execution_count": null,
   "id": "f596e511",
   "metadata": {},
   "outputs": [],
   "source": [
    "# import numpy as np\n",
    "# import plotly.graph_objects as go\n",
    "\n",
    "# def tryparam(w1, w2, b):\n",
    "#     # Scatter plot of actual data\n",
    "#     fig = go.Figure()\n",
    "#     fig.add_trace(go.Scatter3d(\n",
    "#         x=engine,\n",
    "#         y=petrol,\n",
    "#         z=actual,\n",
    "#         mode='markers',\n",
    "#         marker=dict(size=3, color=engine, colorscale='Viridis'),\n",
    "#         name='Actual Data'\n",
    "#     ))\n",
    "#     # Create grid for hyperplane\n",
    "#     eng_range = np.linspace(engine.min(), engine.max(), 30)\n",
    "#     fuel_range = np.linspace(petrol.min(), petrol.max(), 30)\n",
    "#     eng_grid, fuel_grid = np.meshgrid(eng_range, fuel_range)\n",
    "#     z_grid = w1 * eng_grid + w2 * fuel_grid + b\n",
    "#     # Add regression plane\n",
    "#     fig.add_trace(go.Surface(\n",
    "#         x=eng_grid,\n",
    "#         y=fuel_grid,\n",
    "#         z=z_grid,\n",
    "#         colorscale='Reds',\n",
    "#         opacity=0.5,\n",
    "#         name='Regression Plane'\n",
    "#     ))\n",
    "#     fig.update_layout(\n",
    "#         title='Regression Hyperplane',\n",
    "#         scene=dict(\n",
    "#             xaxis_title='ENGINESIZE',\n",
    "#             yaxis_title='FUELCONSUMPTION_COMB_MPG',\n",
    "#             zaxis_title='CO2EMISSIONS'\n",
    "#         )\n",
    "#     )\n",
    "#     fig.show()\n"
   ]
  },
  {
   "cell_type": "code",
   "execution_count": null,
   "id": "67dd522d",
   "metadata": {},
   "outputs": [],
   "source": [
    "tryparam(w1,w2,intercept)"
   ]
  },
  {
   "cell_type": "code",
   "execution_count": null,
   "id": "5f1327c9",
   "metadata": {},
   "outputs": [],
   "source": [
    "import numpy as np\n",
    "import matplotlib.pyplot as plt\n",
    "\n",
    "# Ensure X1, X2, and y_test have compatible shapes for 3D plotting\n",
    "X1 = x_test[:, 0] if x_test.ndim > 1 else x_test\n",
    "X2 = x_test[:, 1] if x_test.ndim > 1 else np.zeros_like(X1)\n",
    "\n",
    "# Create a mesh grid for plotting the regression plane\n",
    "x1_surf, x2_surf = np.meshgrid(np.linspace(X1.min(), X1.max(), 100), \n",
    "                               np.linspace(X2.min(), X2.max(), 100))\n",
    "\n",
    "# Use correct coef indexing for 1D array\n",
    "if coef.ndim == 1:\n",
    "    y_surf = intercept + coef[0] * x1_surf + coef[1] * x2_surf\n",
    "else:\n",
    "    y_surf = intercept + coef[0,0] * x1_surf + coef[0,1] * x2_surf\n",
    "\n",
    "# Predict y values using trained regression model to compare with actual y_test for above/below plane colors\n",
    "if x_test.ndim == 1:\n",
    "    y_pred = model.predict(x_test.reshape(-1, 1))\n",
    "else:\n",
    "    y_pred = model.predict(x_test)\n",
    "\n",
    "# Flatten arrays for boolean indexing\n",
    "above_plane = y_test >= y_pred\n",
    "below_plane = y_test < y_pred\n",
    "above_plane = above_plane.flatten()\n",
    "below_plane = below_plane.flatten()\n",
    "\n",
    "# Plotting\n",
    "fig = plt.figure(figsize=(20, 8))\n",
    "ax = fig.add_subplot(111, projection='3d')\n",
    "\n",
    "# Plot the data points above and below the plane in different colors\n",
    "ax.scatter(X1[above_plane], X2[above_plane], y_test[above_plane],  label=\"Above Plane\",s=70,alpha=.7,ec='k')\n",
    "ax.scatter(X1[below_plane], X2[below_plane], y_test[below_plane],  label=\"Below Plane\",s=50,alpha=.3,ec='k')\n",
    "\n",
    "# Plot the regression plane\n",
    "ax.plot_surface(x1_surf, x2_surf, y_surf, color='k', alpha=0.21)\n",
    "\n",
    "# Set view and labels\n",
    "ax.view_init(elev=10)\n",
    "\n",
    "ax.legend(fontsize='x-large',loc='upper center')\n",
    "ax.set_xticks([])\n",
    "ax.set_yticks([])\n",
    "ax.set_zticks([])\n",
    "ax.set_box_aspect([1,1,0.75])\n",
    "ax.set_xlabel('ENGINESIZE', fontsize='xx-large')\n",
    "ax.set_ylabel('FUELCONSUMPTION_COMB_MPG', fontsize='xx-large')\n",
    "ax.set_zlabel('CO2 Emissions', fontsize='xx-large')\n",
    "ax.set_title('Multiple Linear Regression of CO2 Emissions', fontsize='xx-large')\n",
    "plt.tight_layout()\n",
    "plt.show()\n"
   ]
  },
  {
   "cell_type": "code",
   "execution_count": null,
   "id": "366360d8",
   "metadata": {},
   "outputs": [],
   "source": [
    "import numpy as np\n",
    "import plotly.graph_objects as go\n",
    "\n",
    "# --- Prepare the test data ---\n",
    "X1 = x_test[:, 0] if x_test.ndim > 1 else x_test\n",
    "X2 = x_test[:, 1] if x_test.ndim > 1 else np.zeros_like(X1)\n",
    "\n",
    "# Mesh grid for the regression plane\n",
    "x1_surf, x2_surf = np.meshgrid(\n",
    "    np.linspace(X1.min(), X1.max(), 100),\n",
    "    np.linspace(X2.min(), X2.max(), 100)\n",
    ")\n",
    "\n",
    "# Compute Z values of the plane using your coefficients\n",
    "if coef.ndim == 1:\n",
    "    y_surf = intercept + coef[0] * x1_surf + coef[1] * x2_surf\n",
    "else:\n",
    "    y_surf = intercept + coef[0, 0] * x1_surf + coef[0, 1] * x2_surf\n",
    "\n",
    "# Predictions for test set\n",
    "if x_test.ndim == 1:\n",
    "    y_pred = model.predict(x_test.reshape(-1, 1))\n",
    "else:\n",
    "    y_pred = model.predict(x_test)\n",
    "\n",
    "above_plane = (y_test >= y_pred).flatten()\n",
    "below_plane = ~above_plane\n",
    "\n",
    "# --- Plotly figure ---\n",
    "fig = go.Figure()\n",
    "\n",
    "# Points above the plane\n",
    "fig.add_trace(go.Scatter3d(\n",
    "    x=X1[above_plane],\n",
    "    y=X2[above_plane],\n",
    "    z=y_test[above_plane],\n",
    "    mode='markers',\n",
    "    name='Above Plane',\n",
    "    marker=dict(size=6, color='blue', opacity=0.7, line=dict(width=1, color='black'))\n",
    "))\n",
    "\n",
    "# Points below the plane\n",
    "fig.add_trace(go.Scatter3d(\n",
    "    x=X1[below_plane],\n",
    "    y=X2[below_plane],\n",
    "    z=y_test[below_plane],\n",
    "    mode='markers',\n",
    "    name='Below Plane',\n",
    "    marker=dict(size=6, color='red', opacity=0.4, line=dict(width=1, color='black'))\n",
    "))\n",
    "\n",
    "# Regression plane\n",
    "fig.add_trace(go.Surface(\n",
    "    x=x1_surf,\n",
    "    y=x2_surf,\n",
    "    z=y_surf,\n",
    "    colorscale=[[0, 'gray'], [1, 'gray']],\n",
    "    opacity=0.25,\n",
    "    showscale=False,\n",
    "    name='Regression Plane'\n",
    "))\n",
    "\n",
    "# Layout and styling\n",
    "fig.update_layout(\n",
    "    scene=dict(\n",
    "        xaxis_title='ENGINESIZE',\n",
    "        yaxis_title='FUELCONSUMPTION_COMB_MPG',\n",
    "        zaxis_title='CO2 Emissions',\n",
    "        aspectratio=dict(x=1, y=1, z=0.75)\n",
    "    ),\n",
    "    legend=dict(x=0.5, y=1.05, orientation='h'),\n",
    "    title='Multiple Linear Regression of CO2 Emissions',\n",
    ")\n",
    "\n",
    "fig.show()\n"
   ]
  },
  {
   "cell_type": "code",
   "execution_count": null,
   "id": "c471a619",
   "metadata": {},
   "outputs": [],
   "source": [
    "# For multiple regression, plot predicted vs actual values\n",
    "plt.scatter(y_train, model.predict(x_train), color='blue', alpha=0.6)\n",
    "plt.xlabel(\"Actual Emission\")\n",
    "plt.ylabel(\"Predicted Emission\")\n",
    "plt.title(\"Predicted vs Actual Emission (Train Set)\")\n",
    "plt.plot([y_train.min(), y_train.max()], [y_train.min(), y_train.max()], 'r--')  # Reference line\n",
    "plt.show()\n"
   ]
  },
  {
   "cell_type": "markdown",
   "id": "861d998e",
   "metadata": {},
   "source": [
    "QUESTIONS\n",
    "\n",
    "Exercise 1\n",
    "\n",
    "Determine and print the parameters for the best-fit linear regression line for CO2 emission with respect to engine size."
   ]
  },
  {
   "cell_type": "code",
   "execution_count": 132,
   "id": "3a180433",
   "metadata": {},
   "outputs": [
    {
     "name": "stdout",
     "output_type": "stream",
     "text": [
      "Coefficients:  [55.18408797]\n",
      "Intercept:  256.7718301362164\n"
     ]
    }
   ],
   "source": [
    "import sklearn\n",
    "from sklearn.model_selection import train_test_split\n",
    "from sklearn.linear_model import LinearRegression\n",
    "\n",
    "x_train_1 = x_train[:, 0]  # Use the first two features\n",
    "y_train_1 = y_train  # Corresponding target values\n",
    "\n",
    "regressor_1 = LinearRegression()\n",
    "regressor_1.fit(x_train_1.reshape(-1, 1), y_train_1)\n",
    "coef_1 =  regressor_1.coef_\n",
    "intercept_1 = regressor_1.intercept_\n",
    "\n",
    "print ('Coefficients: ',coef_1)\n",
    "print ('Intercept: ',intercept_1)"
   ]
  },
  {
   "cell_type": "markdown",
   "id": "e39def56",
   "metadata": {},
   "source": [
    "1️⃣ Your original x_train_1\n",
    "\n",
    "If x_train_1 is a simple 1-D array (e.g. shape (100,)), it looks like:\n",
    "\n",
    "[1.2, 1.6, 2.0, ...]   # 100 numbers\n",
    "\n",
    "\n",
    "That’s only 1 dimension.\n",
    "\n",
    "2️⃣ What the model needs\n",
    "\n",
    "Scikit-learn wants a matrix where each row is a sample and each column is a feature:\n",
    "\n",
    "[[1.2],\n",
    " [1.6],\n",
    " [2.0],\n",
    " ...]                 # shape (100, 1)\n",
    "\n",
    "3️⃣ Using reshape(-1, 1)\n",
    "\n",
    "reshape(-1, 1) converts a 1-D vector into a 2-D column vector:\n",
    "\n",
    "-1 → “figure out the correct number of rows automatically.”\n",
    "\n",
    "1 → “make exactly one column.”\n",
    "\n",
    "So:\n",
    "\n",
    "x_train_1.reshape(-1, 1).shape   # → (100, 1)"
   ]
  },
  {
   "cell_type": "markdown",
   "id": "2b2e06ec",
   "metadata": {},
   "source": [
    "Exercise 2\n",
    "Produce a scatterplot of CO2 emission against ENGINESIZE and include the best-fit regression line to the training data."
   ]
  },
  {
   "cell_type": "code",
   "execution_count": 133,
   "id": "fac558c8",
   "metadata": {},
   "outputs": [
    {
     "data": {
      "image/png": "[encoded data removed]",
      "text/plain": [
       "<Figure size 1000x600 with 1 Axes>"
      ]
     },
     "metadata": {},
     "output_type": "display_data"
    }
   ],
   "source": [
    "fig = plt.figure(figsize=(10, 6))\n",
    "plt.scatter(x_train_1, y_train_1, color='blue', alpha=0.6)\n",
    "plt.plot(x_train_1,regressor_1.predict(x_train_1.reshape(-1,1)) ,'r--')\n",
    "plt.title(\"Regression Line for CO2 Emission vs ENGINESIZE\")\n",
    "plt.xlabel(\"ENGINESIZE\")\n",
    "plt.ylabel(\"CO2 Emission\")\n",
    "plt.show()"
   ]
  },
  {
   "cell_type": "markdown",
   "id": "d9a2a654",
   "metadata": {},
   "source": []
  }
 ],
 "metadata": {
  "kernelspec": {
   "display_name": "Python 3",
   "language": "python",
   "name": "python3"
  },
  "language_info": {
   "codemirror_mode": {
    "name": "ipython",
    "version": 3
   },
   "file_extension": ".py",
   "mimetype": "text/x-python",
   "name": "python",
   "nbconvert_exporter": "python",
   "pygments_lexer": "ipython3",
   "version": "3.13.5"
  }
 },
 "nbformat": 4,
 "nbformat_minor": 5
}
