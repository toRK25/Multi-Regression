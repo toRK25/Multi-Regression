{
 "cells": [
  {
   "cell_type": "markdown",
   "id": "ef1905c3",
   "metadata": {},
   "source": [
    "Exercise 1\n",
    "Determine and print the parameters for the best-fit linear regression line for CO2 emission with respect to engine size."
   ]
  }
 ],
 "metadata": {
  "kernelspec": {
   "display_name": "Python 3",
   "language": "python",
   "name": "python3"
  },
  "language_info": {
   "name": "python",
   "version": "3.13.5"
  }
 },
 "nbformat": 4,
 "nbformat_minor": 5
}
